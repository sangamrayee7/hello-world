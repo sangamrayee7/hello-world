{
 "cells": [
  {
   "cell_type": "code",
   "execution_count": 4,
   "id": "7cce7366",
   "metadata": {},
   "outputs": [],
   "source": [
    "import pandas as pd\n",
    "import numpy as np"
   ]
  },
  {
   "cell_type": "code",
   "execution_count": 5,
   "id": "47e3cee9",
   "metadata": {},
   "outputs": [],
   "source": [
    "Series_A=pd.Series([10,20,30,40,50])\n",
    "Series_B=pd.Series([40,50,60,70,80])"
   ]
  },
  {
   "cell_type": "code",
   "execution_count": 9,
   "id": "487dc308",
   "metadata": {},
   "outputs": [
    {
     "name": "stdout",
     "output_type": "stream",
     "text": [
      "0    10\n",
      "1    20\n",
      "2    30\n",
      "5    60\n",
      "6    70\n",
      "7    80\n",
      "dtype: int64\n"
     ]
    }
   ],
   "source": [
    "notcommonseries=union[~union.isin(intersect)]\n",
    "print(notcommonseries)"
   ]
  },
  {
   "cell_type": "code",
   "execution_count": 10,
   "id": "b650757b",
   "metadata": {},
   "outputs": [
    {
     "name": "stdout",
     "output_type": "stream",
     "text": [
      "Minimum: 10\n",
      "Maximum: 50\n"
     ]
    }
   ],
   "source": [
    "print(\"Minimum:\",min(Series_A))\n",
    "print(\"Maximum:\",max(Series_A))"
   ]
  },
  {
   "cell_type": "code",
   "execution_count": 11,
   "id": "628fb6b0",
   "metadata": {},
   "outputs": [
    {
     "name": "stdout",
     "output_type": "stream",
     "text": [
      "Total: 300\n"
     ]
    }
   ],
   "source": [
    "print(\"Total:\",sum(Series_B))\n"
   ]
  },
  {
   "cell_type": "code",
   "execution_count": 13,
   "id": "25babca1",
   "metadata": {},
   "outputs": [
    {
     "name": "stdout",
     "output_type": "stream",
     "text": [
      "Average: 30.0\n"
     ]
    }
   ],
   "source": [
    "print(\"Average:\",np.mean(Series_A))\n"
   ]
  },
  {
   "cell_type": "code",
   "execution_count": 14,
   "id": "336a7030",
   "metadata": {},
   "outputs": [
    {
     "name": "stdout",
     "output_type": "stream",
     "text": [
      "Median: 60.0\n"
     ]
    }
   ],
   "source": [
    "print(\"Median:\",np.median(Series_B))\n"
   ]
  },
  {
   "cell_type": "code",
   "execution_count": null,
   "id": "afc8f081",
   "metadata": {},
   "outputs": [],
   "source": []
  }
 ],
 "metadata": {
  "kernelspec": {
   "display_name": "Python 3 (ipykernel)",
   "language": "python",
   "name": "python3"
  },
  "language_info": {
   "codemirror_mode": {
    "name": "ipython",
    "version": 3
   },
   "file_extension": ".py",
   "mimetype": "text/x-python",
   "name": "python",
   "nbconvert_exporter": "python",
   "pygments_lexer": "ipython3",
   "version": "3.11.3"
  }
 },
 "nbformat": 4,
 "nbformat_minor": 5
}
