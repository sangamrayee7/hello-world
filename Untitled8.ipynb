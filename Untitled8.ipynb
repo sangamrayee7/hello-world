{
 "cells": [
  {
   "cell_type": "code",
   "execution_count": 1,
   "id": "53d83b25",
   "metadata": {},
   "outputs": [],
   "source": [
    "import numpy as np"
   ]
  },
  {
   "cell_type": "code",
   "execution_count": 10,
   "id": "bbdd9e0b",
   "metadata": {},
   "outputs": [
    {
     "data": {
      "text/plain": [
       "array([[   1, 4335],\n",
       "       [   2, 9552],\n",
       "       [   3, 7332],\n",
       "       [   4, 4504],\n",
       "       [   5, 5335],\n",
       "       [   6, 7552],\n",
       "       [   7, 8332],\n",
       "       [   8, 6504],\n",
       "       [   9, 8968],\n",
       "       [  10, 7689]])"
      ]
     },
     "execution_count": 10,
     "metadata": {},
     "output_type": "execute_result"
    }
   ],
   "source": [
    "Day_number = np.arange(1,11)\n",
    "steps_walked = [4335,9552,7332,4504,5335,7552,8332,6504,8968,7689]\n",
    "arr = np.array([Day_number,steps_walked])\n",
    "arr = arr.T\n",
    "arr"
   ]
  },
  {
   "cell_type": "code",
   "execution_count": 11,
   "id": "2fa90989",
   "metadata": {},
   "outputs": [
    {
     "name": "stdout",
     "output_type": "stream",
     "text": [
      "After adding 1000 steps\n"
     ]
    },
    {
     "data": {
      "text/plain": [
       "array([[1001, 5335],\n",
       "       [   2, 9552],\n",
       "       [   3, 7332],\n",
       "       [   4, 4504],\n",
       "       [   5, 5335],\n",
       "       [   6, 7552],\n",
       "       [   7, 8332],\n",
       "       [   8, 6504],\n",
       "       [   9, 8968],\n",
       "       [  10, 7689]])"
      ]
     },
     "execution_count": 11,
     "metadata": {},
     "output_type": "execute_result"
    }
   ],
   "source": [
    "new_arr = arr[:1] + 1000\n",
    "arr[:1] = new_arr\n",
    "print(\"After adding 1000 steps\")\n",
    "arr"
   ]
  },
  {
   "cell_type": "code",
   "execution_count": 13,
   "id": "8d82ce91",
   "metadata": {},
   "outputs": [
    {
     "name": "stdout",
     "output_type": "stream",
     "text": [
      "Steps more than 7000\n"
     ]
    },
    {
     "data": {
      "text/plain": [
       "array([[   2, 9552],\n",
       "       [   3, 7332],\n",
       "       [   6, 7552],\n",
       "       [   7, 8332],\n",
       "       [   9, 8968],\n",
       "       [  10, 7689]])"
      ]
     },
     "execution_count": 13,
     "metadata": {},
     "output_type": "execute_result"
    }
   ],
   "source": [
    "matched = arr[:,1] > 7000\n",
    "matched\n",
    "new_arr = arr[matched]\n",
    "print(\"Steps more than 7000\")\n",
    "new_arr"
   ]
  },
  {
   "cell_type": "code",
   "execution_count": 7,
   "id": "3f886861",
   "metadata": {},
   "outputs": [
    {
     "name": "stdout",
     "output_type": "stream",
     "text": [
      "Sorted array in 2D\n",
      "[[    1  6335]\n",
      " [    4  6504]\n",
      " [    5  7335]\n",
      " [    8  8504]\n",
      " [    3  9332]\n",
      " [    6  9552]\n",
      " [   10  9689]\n",
      " [    7 10332]\n",
      " [    9 10968]\n",
      " [    2 11552]]\n"
     ]
    }
   ],
   "source": [
    "sorted_arr = arr[arr[:,1].argsort()]\n",
    "print(\"Sorted array in 2D\")\n",
    "print(sorted_arr)"
   ]
  },
  {
   "cell_type": "code",
   "execution_count": null,
   "id": "5f6e8e1e",
   "metadata": {},
   "outputs": [],
   "source": []
  }
 ],
 "metadata": {
  "kernelspec": {
   "display_name": "Python 3 (ipykernel)",
   "language": "python",
   "name": "python3"
  },
  "language_info": {
   "codemirror_mode": {
    "name": "ipython",
    "version": 3
   },
   "file_extension": ".py",
   "mimetype": "text/x-python",
   "name": "python",
   "nbconvert_exporter": "python",
   "pygments_lexer": "ipython3",
   "version": "3.11.3"
  }
 },
 "nbformat": 4,
 "nbformat_minor": 5
}
