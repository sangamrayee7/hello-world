{
 "cells": [
  {
   "cell_type": "code",
   "execution_count": 1,
   "id": "554039de",
   "metadata": {},
   "outputs": [],
   "source": [
    "import pandas as pd\n",
    "names=pd.Series(['Alice','Bob','Charlie','David','Eve'])\n",
    "ages=pd.Series([25,32,28,45,29])\n",
    "cities=pd.Series(['Newyork','San francisco','Los angeles','chicago','Miami'])"
   ]
  },
  {
   "cell_type": "code",
   "execution_count": 3,
   "id": "16c7ae9d",
   "metadata": {},
   "outputs": [],
   "source": [
    "data={\n",
    "    'Name':names,\n",
    "    'Age':ages,\n",
    "    'City':cities\n",
    "}"
   ]
  },
  {
   "cell_type": "code",
   "execution_count": 4,
   "id": "cda4acde",
   "metadata": {},
   "outputs": [
    {
     "name": "stdout",
     "output_type": "stream",
     "text": [
      "      Name  Age           City\n",
      "0    Alice   25        Newyork\n",
      "1      Bob   32  San francisco\n",
      "2  Charlie   28    Los angeles\n",
      "3    David   45        chicago\n",
      "4      Eve   29          Miami\n"
     ]
    }
   ],
   "source": [
    "df=pd.DataFrame(data)\n",
    "print(df)"
   ]
  },
  {
   "cell_type": "code",
   "execution_count": null,
   "id": "bebf1980",
   "metadata": {},
   "outputs": [],
   "source": []
  }
 ],
 "metadata": {
  "kernelspec": {
   "display_name": "Python 3 (ipykernel)",
   "language": "python",
   "name": "python3"
  },
  "language_info": {
   "codemirror_mode": {
    "name": "ipython",
    "version": 3
   },
   "file_extension": ".py",
   "mimetype": "text/x-python",
   "name": "python",
   "nbconvert_exporter": "python",
   "pygments_lexer": "ipython3",
   "version": "3.11.3"
  }
 },
 "nbformat": 4,
 "nbformat_minor": 5
}
