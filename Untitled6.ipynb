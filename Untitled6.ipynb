{
 "cells": [
  {
   "cell_type": "code",
   "execution_count": 1,
   "id": "f70a1ecb",
   "metadata": {},
   "outputs": [],
   "source": [
    "import pandas as pd"
   ]
  },
  {
   "cell_type": "code",
   "execution_count": 2,
   "id": "86ec278c",
   "metadata": {},
   "outputs": [],
   "source": [
    "data={\n",
    "    'Empno':[101,102,103,104,105],\n",
    "    'Fname':['Pawan','Nithesh','Ronith','Swasthik','Preetham'],\n",
    "    'Qualification':['CS','Diplom','Engineering','IAS','Bcom'],\n",
    "    'Subject':['CS','Mech','CE','EC','AM']\n",
    "}\n"
   ]
  },
  {
   "cell_type": "code",
   "execution_count": 4,
   "id": "c970724b",
   "metadata": {},
   "outputs": [
    {
     "name": "stdout",
     "output_type": "stream",
     "text": [
      "   Empno     Fname Qualification Subject\n",
      "0    101     Pawan            CS      CS\n",
      "1    102   Nithesh        Diplom    Mech\n",
      "2    103    Ronith   Engineering      CE\n",
      "3    104  Swasthik           IAS      EC\n",
      "4    105  Preetham          Bcom      AM\n"
     ]
    }
   ],
   "source": [
    "df=pd.DataFrame(data)\n",
    "print(df)"
   ]
  },
  {
   "cell_type": "code",
   "execution_count": null,
   "id": "712b8923",
   "metadata": {},
   "outputs": [],
   "source": []
  }
 ],
 "metadata": {
  "kernelspec": {
   "display_name": "Python 3 (ipykernel)",
   "language": "python",
   "name": "python3"
  },
  "language_info": {
   "codemirror_mode": {
    "name": "ipython",
    "version": 3
   },
   "file_extension": ".py",
   "mimetype": "text/x-python",
   "name": "python",
   "nbconvert_exporter": "python",
   "pygments_lexer": "ipython3",
   "version": "3.11.3"
  }
 },
 "nbformat": 4,
 "nbformat_minor": 5
}
