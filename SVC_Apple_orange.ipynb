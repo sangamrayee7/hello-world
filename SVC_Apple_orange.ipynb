{
 "cells": [
  {
   "cell_type": "code",
   "execution_count": 1,
   "id": "f9d28ab1",
   "metadata": {},
   "outputs": [],
   "source": [
    "# import required libraries\n",
    "\n",
    "import pandas as pd\n",
    "from sklearn.model_selection import train_test_split\n",
    "from sklearn.svm import SVC\n",
    "from sklearn.metrics import confusion_matrix\n",
    "from sklearn.preprocessing import LabelEncoder"
   ]
  },
  {
   "cell_type": "code",
   "execution_count": 2,
   "id": "78adc202",
   "metadata": {},
   "outputs": [],
   "source": [
    "# read data from csv file\n",
    "data = pd.read_csv('apples_and_oranges.csv')"
   ]
  },
  {
   "cell_type": "code",
   "execution_count": 3,
   "id": "883a71e2",
   "metadata": {},
   "outputs": [
    {
     "data": {
      "text/plain": [
       "<AxesSubplot:xlabel='Weight', ylabel='Size'>"
      ]
     },
     "execution_count": 3,
     "metadata": {},
     "output_type": "execute_result"
    },
    {
     "data": {
      "image/png": "[encoded data removed]",
      "text/plain": [
       "<Figure size 432x288 with 1 Axes>"
      ]
     },
     "metadata": {
      "needs_background": "light"
     },
     "output_type": "display_data"
    }
   ],
   "source": [
    "import seaborn as sns\n",
    "sns.scatterplot(x=\"Weight\",\n",
    "                    y=\"Size\",\n",
    "                    hue=\"Class\",\n",
    "                    data=data)"
   ]
  },
  {
   "cell_type": "code",
   "execution_count": 4,
   "id": "fafe181f",
   "metadata": {},
   "outputs": [],
   "source": [
    "# splitting data into training and test set\n",
    "training_set,test_set = train_test_split(data,test_size=0.2,random_state=1)\n"
   ]
  },
  {
   "cell_type": "code",
   "execution_count": 5,
   "id": "3aaa1549",
   "metadata": {},
   "outputs": [],
   "source": [
    "# prepare data for applying it to svm\n",
    "x_train = training_set.iloc[:,0:2].values  # data\n",
    "y_train = training_set.iloc[:,2].values  # target\n",
    "x_test = test_set.iloc[:,0:2].values  # data\n",
    "y_test = test_set.iloc[:,2].values  # target"
   ]
  },
  {
   "cell_type": "code",
   "execution_count": 10,
   "id": "75649cf3",
   "metadata": {},
   "outputs": [
    {
     "data": {
      "text/plain": [
       "SVC(C=1, gamma='auto', random_state=1)"
      ]
     },
     "execution_count": 10,
     "metadata": {},
     "output_type": "execute_result"
    }
   ],
   "source": [
    "# fitting the data (train a model)\n",
    "classifier = SVC(kernel='rbf',random_state=1,C=1,gamma='auto')\n",
    "classifier.fit(x_train,y_train)"
   ]
  },
  {
   "cell_type": "code",
   "execution_count": 11,
   "id": "6988585b",
   "metadata": {},
   "outputs": [
    {
     "name": "stdout",
     "output_type": "stream",
     "text": [
      "['orange' 'orange' 'apple' 'apple' 'orange' 'apple' 'orange' 'apple']\n"
     ]
    }
   ],
   "source": [
    "# perform prediction on x_test data\n",
    "y_pred = classifier.predict(x_test)\n",
    "print(y_pred)"
   ]
  },
  {
   "cell_type": "code",
   "execution_count": 12,
   "id": "ff5b4f8a",
   "metadata": {},
   "outputs": [
    {
     "name": "stdout",
     "output_type": "stream",
     "text": [
      "[[3 0]\n",
      " [1 4]]\n",
      "model accuracy is: 87.5 %\n"
     ]
    }
   ],
   "source": [
    "# creating confusion matrix and accuracy calculation\n",
    "cm = confusion_matrix(y_test,y_pred)\n",
    "print(cm)\n",
    "accuracy = float(cm.diagonal().sum())/len(y_test)\n",
    "print('model accuracy is:',accuracy*100,'%')"
   ]
  },
  {
   "cell_type": "code",
   "execution_count": 12,
   "id": "1e48eadf",
   "metadata": {},
   "outputs": [
    {
     "name": "stdout",
     "output_type": "stream",
     "text": [
      "Predicted class is: apple\n"
     ]
    }
   ],
   "source": [
    "x_test1 = [[73,6]] # for new data testing\n",
    "y_pred1 = classifier.predict(x_test1)\n",
    "print(\"Predicted class is:\",y_pred1[0])"
   ]
  }
 ],
 "metadata": {
  "kernelspec": {
   "display_name": "Python 3 (ipykernel)",
   "language": "python",
   "name": "python3"
  },
  "language_info": {
   "codemirror_mode": {
    "name": "ipython",
    "version": 3
   },
   "file_extension": ".py",
   "mimetype": "text/x-python",
   "name": "python",
   "nbconvert_exporter": "python",
   "pygments_lexer": "ipython3",
   "version": "3.11.3"
  }
 },
 "nbformat": 4,
 "nbformat_minor": 5
}
